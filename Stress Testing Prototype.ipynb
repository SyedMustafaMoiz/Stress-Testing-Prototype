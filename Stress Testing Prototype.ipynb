{
 "cells": [
  {
   "cell_type": "code",
   "execution_count": 338,
   "id": "41e7c65b",
   "metadata": {},
   "outputs": [],
   "source": [
    "import pandas as pd\n",
    "import numpy as np\n",
    "import matplotlib.pyplot as plt\n",
    "import statsmodels.api as sm\n",
    "from statsmodels.stats.outliers_influence import variance_inflation_factor"
   ]
  },
  {
   "cell_type": "code",
   "execution_count": 339,
   "id": "1441481f",
   "metadata": {},
   "outputs": [],
   "source": [
    "income_hist_data = pd.read_excel('C:/Users/syedm/Desktop/Stress Testing/Income_Hist_Data.xlsx')\n",
    "ssad = pd.read_csv('C:/Users/syedm/Desktop/Stress Testing/SupervisorySeverelyAdverseDomestic.csv')"
   ]
  },
  {
   "cell_type": "code",
   "execution_count": 340,
   "id": "922c3d06",
   "metadata": {},
   "outputs": [
    {
     "data": {
      "text/html": [
       "<div>\n",
       "<style scoped>\n",
       "    .dataframe tbody tr th:only-of-type {\n",
       "        vertical-align: middle;\n",
       "    }\n",
       "\n",
       "    .dataframe tbody tr th {\n",
       "        vertical-align: top;\n",
       "    }\n",
       "\n",
       "    .dataframe thead th {\n",
       "        text-align: right;\n",
       "    }\n",
       "</style>\n",
       "<table border=\"1\" class=\"dataframe\">\n",
       "  <thead>\n",
       "    <tr style=\"text-align: right;\">\n",
       "      <th></th>\n",
       "      <th>Unnamed: 0</th>\n",
       "      <th>institution.name</th>\n",
       "      <th>total.interes.income.reported</th>\n",
       "      <th>total.interest.expense.reported</th>\n",
       "      <th>total.noninterest.income.reported</th>\n",
       "      <th>total.noninterest.expense.reported</th>\n",
       "      <th>provision.losses</th>\n",
       "      <th>tier.1.capital.reported</th>\n",
       "      <th>risk.weighted.assets.reported</th>\n",
       "    </tr>\n",
       "  </thead>\n",
       "  <tbody>\n",
       "    <tr>\n",
       "      <th>0</th>\n",
       "      <td>2015Q4</td>\n",
       "      <td>Citigroup Inc.</td>\n",
       "      <td>14422000</td>\n",
       "      <td>2823000</td>\n",
       "      <td>7160000</td>\n",
       "      <td>11666000</td>\n",
       "      <td>2256000</td>\n",
       "      <td>176420000</td>\n",
       "      <td>1.190853e+09</td>\n",
       "    </tr>\n",
       "    <tr>\n",
       "      <th>1</th>\n",
       "      <td>2015Q3</td>\n",
       "      <td>Citigroup Inc.</td>\n",
       "      <td>14771000</td>\n",
       "      <td>2854000</td>\n",
       "      <td>6969000</td>\n",
       "      <td>11190000</td>\n",
       "      <td>1582000</td>\n",
       "      <td>174276000</td>\n",
       "      <td>1.229667e+09</td>\n",
       "    </tr>\n",
       "    <tr>\n",
       "      <th>2</th>\n",
       "      <td>2015Q2</td>\n",
       "      <td>Citigroup Inc.</td>\n",
       "      <td>14936000</td>\n",
       "      <td>2938000</td>\n",
       "      <td>7654000</td>\n",
       "      <td>11351000</td>\n",
       "      <td>1515000</td>\n",
       "      <td>173006000</td>\n",
       "      <td>1.253875e+09</td>\n",
       "    </tr>\n",
       "    <tr>\n",
       "      <th>3</th>\n",
       "      <td>2015Q1</td>\n",
       "      <td>Citigroup Inc.</td>\n",
       "      <td>14666000</td>\n",
       "      <td>2898000</td>\n",
       "      <td>8041000</td>\n",
       "      <td>11351000</td>\n",
       "      <td>1755000</td>\n",
       "      <td>168021000</td>\n",
       "      <td>1.260403e+09</td>\n",
       "    </tr>\n",
       "    <tr>\n",
       "      <th>4</th>\n",
       "      <td>2014Q4</td>\n",
       "      <td>Citigroup Inc.</td>\n",
       "      <td>15324000</td>\n",
       "      <td>3061000</td>\n",
       "      <td>5785000</td>\n",
       "      <td>14833000</td>\n",
       "      <td>1881000</td>\n",
       "      <td>166663000</td>\n",
       "      <td>1.274672e+09</td>\n",
       "    </tr>\n",
       "  </tbody>\n",
       "</table>\n",
       "</div>"
      ],
      "text/plain": [
       "  Unnamed: 0 institution.name  total.interes.income.reported  \\\n",
       "0     2015Q4   Citigroup Inc.                       14422000   \n",
       "1     2015Q3   Citigroup Inc.                       14771000   \n",
       "2     2015Q2   Citigroup Inc.                       14936000   \n",
       "3     2015Q1   Citigroup Inc.                       14666000   \n",
       "4     2014Q4   Citigroup Inc.                       15324000   \n",
       "\n",
       "   total.interest.expense.reported  total.noninterest.income.reported  \\\n",
       "0                          2823000                            7160000   \n",
       "1                          2854000                            6969000   \n",
       "2                          2938000                            7654000   \n",
       "3                          2898000                            8041000   \n",
       "4                          3061000                            5785000   \n",
       "\n",
       "   total.noninterest.expense.reported  provision.losses  \\\n",
       "0                            11666000           2256000   \n",
       "1                            11190000           1582000   \n",
       "2                            11351000           1515000   \n",
       "3                            11351000           1755000   \n",
       "4                            14833000           1881000   \n",
       "\n",
       "   tier.1.capital.reported  risk.weighted.assets.reported  \n",
       "0                176420000                   1.190853e+09  \n",
       "1                174276000                   1.229667e+09  \n",
       "2                173006000                   1.253875e+09  \n",
       "3                168021000                   1.260403e+09  \n",
       "4                166663000                   1.274672e+09  "
      ]
     },
     "execution_count": 340,
     "metadata": {},
     "output_type": "execute_result"
    }
   ],
   "source": [
    "income_hist_data.head()"
   ]
  },
  {
   "cell_type": "code",
   "execution_count": 341,
   "id": "9ce2da3f",
   "metadata": {},
   "outputs": [
    {
     "data": {
      "text/html": [
       "<div>\n",
       "<style scoped>\n",
       "    .dataframe tbody tr th:only-of-type {\n",
       "        vertical-align: middle;\n",
       "    }\n",
       "\n",
       "    .dataframe tbody tr th {\n",
       "        vertical-align: top;\n",
       "    }\n",
       "\n",
       "    .dataframe thead th {\n",
       "        text-align: right;\n",
       "    }\n",
       "</style>\n",
       "<table border=\"1\" class=\"dataframe\">\n",
       "  <thead>\n",
       "    <tr style=\"text-align: right;\">\n",
       "      <th></th>\n",
       "      <th>Date</th>\n",
       "      <th>Real GDP growth</th>\n",
       "      <th>Nominal GDP growth</th>\n",
       "      <th>Real disposable income growth</th>\n",
       "      <th>Nominal disposable income growth</th>\n",
       "      <th>Unemployment rate</th>\n",
       "      <th>CPI inflation rate</th>\n",
       "      <th>3-month Treasury rate</th>\n",
       "      <th>5-year Treasury yield</th>\n",
       "      <th>10-year Treasury yield</th>\n",
       "      <th>BBB corporate yield</th>\n",
       "      <th>Mortgage rate</th>\n",
       "      <th>Prime rate</th>\n",
       "      <th>Dow Jones Total Stock Market Index (Level)</th>\n",
       "      <th>House Price Index (Level)</th>\n",
       "      <th>Commercial Real Estate Price Index (Level)</th>\n",
       "      <th>Market Volatility Index (Level)</th>\n",
       "    </tr>\n",
       "  </thead>\n",
       "  <tbody>\n",
       "    <tr>\n",
       "      <th>0</th>\n",
       "      <td>Q1 1976</td>\n",
       "      <td>9.3</td>\n",
       "      <td>14.0</td>\n",
       "      <td>4.8</td>\n",
       "      <td>9.5</td>\n",
       "      <td>7.7</td>\n",
       "      <td>4.7</td>\n",
       "      <td>4.9</td>\n",
       "      <td>7.4</td>\n",
       "      <td>7.6</td>\n",
       "      <td>9.4</td>\n",
       "      <td>8.8</td>\n",
       "      <td>6.8</td>\n",
       "      <td>NaN</td>\n",
       "      <td>22.0</td>\n",
       "      <td>51.0</td>\n",
       "      <td>NaN</td>\n",
       "    </tr>\n",
       "    <tr>\n",
       "      <th>1</th>\n",
       "      <td>Q2 1976</td>\n",
       "      <td>3.1</td>\n",
       "      <td>7.3</td>\n",
       "      <td>2.1</td>\n",
       "      <td>5.6</td>\n",
       "      <td>7.6</td>\n",
       "      <td>3.6</td>\n",
       "      <td>5.2</td>\n",
       "      <td>7.4</td>\n",
       "      <td>7.6</td>\n",
       "      <td>9.4</td>\n",
       "      <td>8.8</td>\n",
       "      <td>6.9</td>\n",
       "      <td>NaN</td>\n",
       "      <td>22.1</td>\n",
       "      <td>52.0</td>\n",
       "      <td>NaN</td>\n",
       "    </tr>\n",
       "    <tr>\n",
       "      <th>2</th>\n",
       "      <td>Q3 1976</td>\n",
       "      <td>2.0</td>\n",
       "      <td>7.4</td>\n",
       "      <td>3.0</td>\n",
       "      <td>9.4</td>\n",
       "      <td>7.7</td>\n",
       "      <td>6.5</td>\n",
       "      <td>5.2</td>\n",
       "      <td>7.3</td>\n",
       "      <td>7.6</td>\n",
       "      <td>9.1</td>\n",
       "      <td>9.0</td>\n",
       "      <td>7.1</td>\n",
       "      <td>NaN</td>\n",
       "      <td>23.1</td>\n",
       "      <td>53.0</td>\n",
       "      <td>NaN</td>\n",
       "    </tr>\n",
       "    <tr>\n",
       "      <th>3</th>\n",
       "      <td>Q4 1976</td>\n",
       "      <td>3.0</td>\n",
       "      <td>10.5</td>\n",
       "      <td>2.4</td>\n",
       "      <td>9.0</td>\n",
       "      <td>7.8</td>\n",
       "      <td>5.9</td>\n",
       "      <td>4.7</td>\n",
       "      <td>6.5</td>\n",
       "      <td>7.1</td>\n",
       "      <td>8.8</td>\n",
       "      <td>8.8</td>\n",
       "      <td>6.5</td>\n",
       "      <td>NaN</td>\n",
       "      <td>24.0</td>\n",
       "      <td>53.0</td>\n",
       "      <td>NaN</td>\n",
       "    </tr>\n",
       "    <tr>\n",
       "      <th>4</th>\n",
       "      <td>Q1 1977</td>\n",
       "      <td>4.7</td>\n",
       "      <td>11.6</td>\n",
       "      <td>-0.1</td>\n",
       "      <td>7.3</td>\n",
       "      <td>7.5</td>\n",
       "      <td>7.5</td>\n",
       "      <td>4.6</td>\n",
       "      <td>6.8</td>\n",
       "      <td>7.2</td>\n",
       "      <td>8.8</td>\n",
       "      <td>8.7</td>\n",
       "      <td>6.3</td>\n",
       "      <td>NaN</td>\n",
       "      <td>25.0</td>\n",
       "      <td>55.0</td>\n",
       "      <td>NaN</td>\n",
       "    </tr>\n",
       "  </tbody>\n",
       "</table>\n",
       "</div>"
      ],
      "text/plain": [
       "      Date  Real GDP growth  Nominal GDP growth  \\\n",
       "0  Q1 1976              9.3                14.0   \n",
       "1  Q2 1976              3.1                 7.3   \n",
       "2  Q3 1976              2.0                 7.4   \n",
       "3  Q4 1976              3.0                10.5   \n",
       "4  Q1 1977              4.7                11.6   \n",
       "\n",
       "   Real disposable income growth  Nominal disposable income growth  \\\n",
       "0                            4.8                               9.5   \n",
       "1                            2.1                               5.6   \n",
       "2                            3.0                               9.4   \n",
       "3                            2.4                               9.0   \n",
       "4                           -0.1                               7.3   \n",
       "\n",
       "   Unemployment rate  CPI inflation rate  3-month Treasury rate  \\\n",
       "0                7.7                 4.7                    4.9   \n",
       "1                7.6                 3.6                    5.2   \n",
       "2                7.7                 6.5                    5.2   \n",
       "3                7.8                 5.9                    4.7   \n",
       "4                7.5                 7.5                    4.6   \n",
       "\n",
       "   5-year Treasury yield  10-year Treasury yield  BBB corporate yield  \\\n",
       "0                    7.4                     7.6                  9.4   \n",
       "1                    7.4                     7.6                  9.4   \n",
       "2                    7.3                     7.6                  9.1   \n",
       "3                    6.5                     7.1                  8.8   \n",
       "4                    6.8                     7.2                  8.8   \n",
       "\n",
       "   Mortgage rate  Prime rate  Dow Jones Total Stock Market Index (Level)  \\\n",
       "0            8.8         6.8                                         NaN   \n",
       "1            8.8         6.9                                         NaN   \n",
       "2            9.0         7.1                                         NaN   \n",
       "3            8.8         6.5                                         NaN   \n",
       "4            8.7         6.3                                         NaN   \n",
       "\n",
       "   House Price Index (Level)  Commercial Real Estate Price Index (Level)  \\\n",
       "0                       22.0                                        51.0   \n",
       "1                       22.1                                        52.0   \n",
       "2                       23.1                                        53.0   \n",
       "3                       24.0                                        53.0   \n",
       "4                       25.0                                        55.0   \n",
       "\n",
       "   Market Volatility Index (Level)  \n",
       "0                              NaN  \n",
       "1                              NaN  \n",
       "2                              NaN  \n",
       "3                              NaN  \n",
       "4                              NaN  "
      ]
     },
     "execution_count": 341,
     "metadata": {},
     "output_type": "execute_result"
    }
   ],
   "source": [
    "ssad.head()"
   ]
  },
  {
   "cell_type": "code",
   "execution_count": 342,
   "id": "0fed19c8",
   "metadata": {},
   "outputs": [
    {
     "data": {
      "text/plain": [
       "(172, 9)"
      ]
     },
     "execution_count": 342,
     "metadata": {},
     "output_type": "execute_result"
    }
   ],
   "source": [
    "income_hist_data.shape"
   ]
  },
  {
   "cell_type": "code",
   "execution_count": 343,
   "id": "47a6543f",
   "metadata": {},
   "outputs": [
    {
     "data": {
      "text/plain": [
       "institution.name\n",
       "JPMorgan Chase & Co.    104\n",
       "Citigroup Inc.           68\n",
       "Name: count, dtype: int64"
      ]
     },
     "execution_count": 343,
     "metadata": {},
     "output_type": "execute_result"
    }
   ],
   "source": [
    "# this tells me I can split the data\n",
    "income_hist_data['institution.name'].value_counts()"
   ]
  },
  {
   "cell_type": "code",
   "execution_count": 344,
   "id": "0a6e3aa8",
   "metadata": {},
   "outputs": [],
   "source": [
    "# calculating total income, expenses. Doing this before splitting so I don't have to write each line twice\n",
    "income_hist_data['total.income'] = income_hist_data['total.interes.income.reported'] + income_hist_data['total.noninterest.income.reported']\n",
    "income_hist_data['total.expense'] = income_hist_data['total.interest.expense.reported'] + income_hist_data['total.noninterest.expense.reported']\n",
    "income_hist_data['profit'] = income_hist_data['total.income'] - income_hist_data['total.expense']"
   ]
  },
  {
   "cell_type": "code",
   "execution_count": 345,
   "id": "f2e5aba4",
   "metadata": {},
   "outputs": [
    {
     "data": {
      "text/plain": [
       "dtype('O')"
      ]
     },
     "execution_count": 345,
     "metadata": {},
     "output_type": "execute_result"
    }
   ],
   "source": [
    "income_hist_data['Unnamed: 0'].dtype"
   ]
  },
  {
   "cell_type": "code",
   "execution_count": 346,
   "id": "2661ed2e",
   "metadata": {},
   "outputs": [],
   "source": [
    "income_hist_data['quarter'] = pd.PeriodIndex(income_hist_data['Unnamed: 0'], freq='Q').to_timestamp(how='end')"
   ]
  },
  {
   "cell_type": "code",
   "execution_count": 347,
   "id": "753872f1",
   "metadata": {},
   "outputs": [],
   "source": [
    "income_hist_data = income_hist_data.sort_values('quarter')"
   ]
  },
  {
   "cell_type": "code",
   "execution_count": 348,
   "id": "aa794851",
   "metadata": {},
   "outputs": [],
   "source": [
    "# split the data by bank, so I can compare them\n",
    "jpmorgan = income_hist_data[income_hist_data['institution.name']==\"JPMorgan Chase & Co.\"]\n",
    "citi = income_hist_data[income_hist_data['institution.name']==\"Citigroup Inc.\"]"
   ]
  },
  {
   "cell_type": "code",
   "execution_count": 349,
   "id": "21f10c62",
   "metadata": {},
   "outputs": [
    {
     "data": {
      "text/plain": [
       "Unnamed: 0                             0\n",
       "institution.name                       0\n",
       "total.interes.income.reported          0\n",
       "total.interest.expense.reported        0\n",
       "total.noninterest.income.reported      0\n",
       "total.noninterest.expense.reported     0\n",
       "provision.losses                       0\n",
       "tier.1.capital.reported                0\n",
       "risk.weighted.assets.reported         40\n",
       "total.income                           0\n",
       "total.expense                          0\n",
       "profit                                 0\n",
       "quarter                                0\n",
       "dtype: int64"
      ]
     },
     "execution_count": 349,
     "metadata": {},
     "output_type": "execute_result"
    }
   ],
   "source": [
    "# check nulls\n",
    "jpmorgan.isnull().sum()"
   ]
  },
  {
   "cell_type": "code",
   "execution_count": 350,
   "id": "30d91b33",
   "metadata": {},
   "outputs": [
    {
     "data": {
      "text/plain": [
       "Unnamed: 0                             0\n",
       "institution.name                       0\n",
       "total.interes.income.reported          0\n",
       "total.interest.expense.reported        0\n",
       "total.noninterest.income.reported      0\n",
       "total.noninterest.expense.reported     0\n",
       "provision.losses                       0\n",
       "tier.1.capital.reported                0\n",
       "risk.weighted.assets.reported         12\n",
       "total.income                           0\n",
       "total.expense                          0\n",
       "profit                                 0\n",
       "quarter                                0\n",
       "dtype: int64"
      ]
     },
     "execution_count": 350,
     "metadata": {},
     "output_type": "execute_result"
    }
   ],
   "source": [
    "citi.isnull().sum()"
   ]
  },
  {
   "cell_type": "code",
   "execution_count": 351,
   "id": "7b4dbc69",
   "metadata": {},
   "outputs": [
    {
     "name": "stderr",
     "output_type": "stream",
     "text": [
      "C:\\Users\\syedm\\AppData\\Local\\Temp\\ipykernel_16348\\2970170342.py:5: FutureWarning: Series.fillna with 'method' is deprecated and will raise in a future version. Use obj.ffill() or obj.bfill() instead.\n",
      "  .fillna(method='ffill')\n",
      "C:\\Users\\syedm\\AppData\\Local\\Temp\\ipykernel_16348\\2970170342.py:6: FutureWarning: Series.fillna with 'method' is deprecated and will raise in a future version. Use obj.ffill() or obj.bfill() instead.\n",
      "  .fillna(method='bfill')\n",
      "C:\\Users\\syedm\\AppData\\Local\\Temp\\ipykernel_16348\\2970170342.py:3: SettingWithCopyWarning: \n",
      "A value is trying to be set on a copy of a slice from a DataFrame.\n",
      "Try using .loc[row_indexer,col_indexer] = value instead\n",
      "\n",
      "See the caveats in the documentation: https://pandas.pydata.org/pandas-docs/stable/user_guide/indexing.html#returning-a-view-versus-a-copy\n",
      "  jpmorgan['risk.weighted.assets.reported'] = (\n",
      "C:\\Users\\syedm\\AppData\\Local\\Temp\\ipykernel_16348\\2970170342.py:11: FutureWarning: Series.fillna with 'method' is deprecated and will raise in a future version. Use obj.ffill() or obj.bfill() instead.\n",
      "  .fillna(method='ffill')\n",
      "C:\\Users\\syedm\\AppData\\Local\\Temp\\ipykernel_16348\\2970170342.py:12: FutureWarning: Series.fillna with 'method' is deprecated and will raise in a future version. Use obj.ffill() or obj.bfill() instead.\n",
      "  .fillna(method='bfill')\n",
      "C:\\Users\\syedm\\AppData\\Local\\Temp\\ipykernel_16348\\2970170342.py:9: SettingWithCopyWarning: \n",
      "A value is trying to be set on a copy of a slice from a DataFrame.\n",
      "Try using .loc[row_indexer,col_indexer] = value instead\n",
      "\n",
      "See the caveats in the documentation: https://pandas.pydata.org/pandas-docs/stable/user_guide/indexing.html#returning-a-view-versus-a-copy\n",
      "  citi['risk.weighted.assets.reported'] = (\n"
     ]
    }
   ],
   "source": [
    "# will impute the nulls here for the sake of this project. In actual work, 40% missing could not be\n",
    "# fixed like this\n",
    "jpmorgan['risk.weighted.assets.reported'] = (\n",
    "    jpmorgan['risk.weighted.assets.reported']\n",
    "    .fillna(method='ffill')\n",
    "    .fillna(method='bfill')\n",
    ")\n",
    "\n",
    "citi['risk.weighted.assets.reported'] = (\n",
    "    citi['risk.weighted.assets.reported']\n",
    "    .fillna(method='ffill')\n",
    "    .fillna(method='bfill')\n",
    ")"
   ]
  },
  {
   "cell_type": "code",
   "execution_count": 352,
   "id": "c46cade6",
   "metadata": {},
   "outputs": [
    {
     "name": "stderr",
     "output_type": "stream",
     "text": [
      "C:\\Users\\syedm\\AppData\\Local\\Temp\\ipykernel_16348\\1259853592.py:2: SettingWithCopyWarning: \n",
      "A value is trying to be set on a copy of a slice from a DataFrame.\n",
      "Try using .loc[row_indexer,col_indexer] = value instead\n",
      "\n",
      "See the caveats in the documentation: https://pandas.pydata.org/pandas-docs/stable/user_guide/indexing.html#returning-a-view-versus-a-copy\n",
      "  jpmorgan['capital_ratio'] = jpmorgan['tier.1.capital.reported'] / jpmorgan['risk.weighted.assets.reported']\n",
      "C:\\Users\\syedm\\AppData\\Local\\Temp\\ipykernel_16348\\1259853592.py:3: SettingWithCopyWarning: \n",
      "A value is trying to be set on a copy of a slice from a DataFrame.\n",
      "Try using .loc[row_indexer,col_indexer] = value instead\n",
      "\n",
      "See the caveats in the documentation: https://pandas.pydata.org/pandas-docs/stable/user_guide/indexing.html#returning-a-view-versus-a-copy\n",
      "  citi['capital_ratio'] = citi['tier.1.capital.reported'] / citi['risk.weighted.assets.reported']\n"
     ]
    }
   ],
   "source": [
    "# capital ratio\n",
    "jpmorgan['capital_ratio'] = jpmorgan['tier.1.capital.reported'] / jpmorgan['risk.weighted.assets.reported']\n",
    "citi['capital_ratio'] = citi['tier.1.capital.reported'] / citi['risk.weighted.assets.reported']"
   ]
  },
  {
   "cell_type": "code",
   "execution_count": 353,
   "id": "d03a43b0",
   "metadata": {},
   "outputs": [
    {
     "data": {
      "image/png": "[encoded data removed]",
      "text/plain": [
       "<Figure size 1200x600 with 1 Axes>"
      ]
     },
     "metadata": {},
     "output_type": "display_data"
    }
   ],
   "source": [
    "plt.figure(figsize=(12, 6))\n",
    "\n",
    "plt.plot(jpmorgan['quarter'], jpmorgan['capital_ratio'], label=\"JPMorgan\", marker='o')\n",
    "plt.plot(citi['quarter'], citi['capital_ratio'], label=\"Citigroup\", marker='P')\n",
    "\n",
    "plt.title(\"Tier 1 Capital Ratio Over Time\")\n",
    "plt.xlabel(\"Quarter\")\n",
    "plt.ylabel(\"Capital Ratio\")\n",
    "plt.legend()\n",
    "plt.grid(True)\n",
    "plt.tight_layout()\n",
    "plt.show()"
   ]
  },
  {
   "cell_type": "code",
   "execution_count": 354,
   "id": "47d10226",
   "metadata": {},
   "outputs": [],
   "source": [
    "ssad['quarter_str'] = ssad['Date'].apply(lambda x: f\"{x.split()[1]}{x.split()[0]}\")\n",
    "\n",
    "ssad['quarter'] = pd.PeriodIndex(ssad['quarter_str'], freq='Q').to_timestamp(how='end')"
   ]
  },
  {
   "cell_type": "code",
   "execution_count": 355,
   "id": "e84dcda2",
   "metadata": {},
   "outputs": [],
   "source": [
    "jpm_merged = jpmorgan.merge(ssad, on='quarter', how='inner')\n",
    "citi_merged = citi.merge(ssad, on='quarter', how='inner')"
   ]
  },
  {
   "cell_type": "code",
   "execution_count": 356,
   "id": "8b2bb88b",
   "metadata": {},
   "outputs": [
    {
     "name": "stdout",
     "output_type": "stream",
     "text": [
      "                            OLS Regression Results                            \n",
      "==============================================================================\n",
      "Dep. Variable:                 profit   R-squared:                       0.706\n",
      "Model:                            OLS   Adj. R-squared:                  0.688\n",
      "Method:                 Least Squares   F-statistic:                     38.78\n",
      "Date:                Tue, 19 Aug 2025   Prob (F-statistic):           1.07e-23\n",
      "Time:                        00:17:14   Log-Likelihood:                -1653.4\n",
      "No. Observations:                 104   AIC:                             3321.\n",
      "Df Residuals:                      97   BIC:                             3339.\n",
      "Df Model:                           6                                         \n",
      "Covariance Type:            nonrobust                                         \n",
      "===================================================================================================\n",
      "                                      coef    std err          t      P>|t|      [0.025      0.975]\n",
      "---------------------------------------------------------------------------------------------------\n",
      "const                            1.197e+07   1.58e+06      7.578      0.000    8.84e+06    1.51e+07\n",
      "Real GDP growth                 -1.469e+05   9.02e+04     -1.630      0.106   -3.26e+05     3.2e+04\n",
      "Unemployment rate                8.134e+05   1.76e+05      4.612      0.000    4.63e+05    1.16e+06\n",
      "CPI inflation rate               8.581e+04    1.1e+05      0.778      0.439   -1.33e+05    3.05e+05\n",
      "Mortgage rate                   -2.499e+06   2.75e+05     -9.084      0.000   -3.05e+06   -1.95e+06\n",
      "3-month Treasury rate            1.005e+06   2.42e+05      4.144      0.000    5.24e+05    1.49e+06\n",
      "Market Volatility Index (Level)  1.899e+04   2.17e+04      0.873      0.385   -2.42e+04    6.22e+04\n",
      "==============================================================================\n",
      "Omnibus:                        6.572   Durbin-Watson:                   0.909\n",
      "Prob(Omnibus):                  0.037   Jarque-Bera (JB):                6.881\n",
      "Skew:                          -0.405   Prob(JB):                       0.0320\n",
      "Kurtosis:                       3.966   Cond. No.                         242.\n",
      "==============================================================================\n",
      "\n",
      "Notes:\n",
      "[1] Standard Errors assume that the covariance matrix of the errors is correctly specified.\n"
     ]
    }
   ],
   "source": [
    "predictors = [\n",
    "    \"Real GDP growth\",\n",
    "    \"Unemployment rate\",\n",
    "    \"CPI inflation rate\",\n",
    "    \"Mortgage rate\",\n",
    "    \"3-month Treasury rate\",\n",
    "    \"Market Volatility Index (Level)\"\n",
    "]\n",
    "\n",
    "jpm_data = jpm_merged.dropna(subset=predictors + ['profit'])\n",
    "X = jpm_data[predictors]\n",
    "y = jpm_data['profit']\n",
    "\n",
    "X = sm.add_constant(X)\n",
    "\n",
    "modeljpm = sm.OLS(y, X).fit()\n",
    "print(modeljpm.summary())\n"
   ]
  },
  {
   "cell_type": "code",
   "execution_count": 357,
   "id": "3f0ef026",
   "metadata": {},
   "outputs": [
    {
     "name": "stdout",
     "output_type": "stream",
     "text": [
      "                            OLS Regression Results                            \n",
      "==============================================================================\n",
      "Dep. Variable:                 profit   R-squared:                       0.171\n",
      "Model:                            OLS   Adj. R-squared:                  0.090\n",
      "Method:                 Least Squares   F-statistic:                     2.100\n",
      "Date:                Tue, 19 Aug 2025   Prob (F-statistic):             0.0661\n",
      "Time:                        00:17:14   Log-Likelihood:                -1139.1\n",
      "No. Observations:                  68   AIC:                             2292.\n",
      "Df Residuals:                      61   BIC:                             2308.\n",
      "Df Model:                           6                                         \n",
      "Covariance Type:            nonrobust                                         \n",
      "===================================================================================================\n",
      "                                      coef    std err          t      P>|t|      [0.025      0.975]\n",
      "---------------------------------------------------------------------------------------------------\n",
      "const                            2.459e+06   5.83e+06      0.422      0.675   -9.19e+06    1.41e+07\n",
      "Real GDP growth                  1.961e+05   2.86e+05      0.685      0.496   -3.76e+05    7.68e+05\n",
      "Unemployment rate                7.942e+05   5.44e+05      1.461      0.149   -2.93e+05    1.88e+06\n",
      "CPI inflation rate              -7338.1978   3.12e+05     -0.023      0.981   -6.32e+05    6.17e+05\n",
      "Mortgage rate                    4.788e+05   1.03e+06      0.466      0.643   -1.58e+06    2.53e+06\n",
      "3-month Treasury rate            2.169e+05   6.96e+05      0.312      0.756   -1.17e+06    1.61e+06\n",
      "Market Volatility Index (Level) -1.603e+05   7.77e+04     -2.062      0.043   -3.16e+05   -4840.653\n",
      "==============================================================================\n",
      "Omnibus:                       26.260   Durbin-Watson:                   1.780\n",
      "Prob(Omnibus):                  0.000   Jarque-Bera (JB):               63.462\n",
      "Skew:                          -1.186   Prob(JB):                     1.66e-14\n",
      "Kurtosis:                       7.095   Cond. No.                         319.\n",
      "==============================================================================\n",
      "\n",
      "Notes:\n",
      "[1] Standard Errors assume that the covariance matrix of the errors is correctly specified.\n"
     ]
    }
   ],
   "source": [
    "citi_data = citi_merged.dropna(subset=predictors + ['profit'])\n",
    "X = citi_data[predictors]\n",
    "y = citi_data['profit']\n",
    "\n",
    "X = sm.add_constant(X)\n",
    "\n",
    "modelciti = sm.OLS(y, X).fit()\n",
    "print(modelciti.summary())"
   ]
  },
  {
   "cell_type": "code",
   "execution_count": 358,
   "id": "682e31af",
   "metadata": {},
   "outputs": [],
   "source": [
    "#based on this output, while JP Morgan is impacted by many variables, Citi is surprisingly undisturbed for\n",
    "# the most part. Also, JP Morgan seems to do better when unemployment increases.\n",
    "# the next step is to test if Citi has a lag."
   ]
  },
  {
   "cell_type": "code",
   "execution_count": 359,
   "id": "6231fc2f",
   "metadata": {},
   "outputs": [],
   "source": [
    "ssad_lagged = ssad.copy()\n",
    "ssad_lagged[['Real GDP growth', 'Unemployment rate', 'CPI inflation rate',\n",
    "             'Mortgage rate', '3-month Treasury rate', 'Market Volatility Index (Level)']] = \\\n",
    "    ssad_lagged[['Real GDP growth', 'Unemployment rate', 'CPI inflation rate',\n",
    "                 'Mortgage rate', '3-month Treasury rate', 'Market Volatility Index (Level)']].shift(1)\n",
    "citi_merged_lagged = citi.merge(ssad_lagged, on='quarter', how='inner')"
   ]
  },
  {
   "cell_type": "code",
   "execution_count": 360,
   "id": "89421563",
   "metadata": {},
   "outputs": [
    {
     "name": "stdout",
     "output_type": "stream",
     "text": [
      "                            OLS Regression Results                            \n",
      "==============================================================================\n",
      "Dep. Variable:                 profit   R-squared:                       0.235\n",
      "Model:                            OLS   Adj. R-squared:                  0.160\n",
      "Method:                 Least Squares   F-statistic:                     3.130\n",
      "Date:                Tue, 19 Aug 2025   Prob (F-statistic):            0.00969\n",
      "Time:                        00:17:14   Log-Likelihood:                -1136.4\n",
      "No. Observations:                  68   AIC:                             2287.\n",
      "Df Residuals:                      61   BIC:                             2302.\n",
      "Df Model:                           6                                         \n",
      "Covariance Type:            nonrobust                                         \n",
      "===================================================================================================\n",
      "                                      coef    std err          t      P>|t|      [0.025      0.975]\n",
      "---------------------------------------------------------------------------------------------------\n",
      "const                            3.568e+06   5.86e+06      0.609      0.545   -8.15e+06    1.53e+07\n",
      "Real GDP growth                 -3.284e+04   2.55e+05     -0.129      0.898   -5.43e+05    4.77e+05\n",
      "Unemployment rate                6.813e+05   5.39e+05      1.264      0.211   -3.96e+05    1.76e+06\n",
      "CPI inflation rate              -1.274e+06      3e+05     -4.248      0.000   -1.87e+06   -6.74e+05\n",
      "Mortgage rate                    1.055e+06   9.73e+05      1.085      0.282    -8.9e+05       3e+06\n",
      "3-month Treasury rate            1.226e+05   6.58e+05      0.186      0.853   -1.19e+06    1.44e+06\n",
      "Market Volatility Index (Level) -1.646e+05    6.9e+04     -2.385      0.020   -3.03e+05   -2.66e+04\n",
      "==============================================================================\n",
      "Omnibus:                       38.884   Durbin-Watson:                   1.923\n",
      "Prob(Omnibus):                  0.000   Jarque-Bera (JB):              112.007\n",
      "Skew:                          -1.774   Prob(JB):                     4.76e-25\n",
      "Kurtosis:                       8.191   Cond. No.                         337.\n",
      "==============================================================================\n",
      "\n",
      "Notes:\n",
      "[1] Standard Errors assume that the covariance matrix of the errors is correctly specified.\n"
     ]
    }
   ],
   "source": [
    "X_lagged = citi_merged_lagged[[\n",
    "    'Real GDP growth', 'Unemployment rate', 'CPI inflation rate',\n",
    "    'Mortgage rate', '3-month Treasury rate', 'Market Volatility Index (Level)'\n",
    "]]\n",
    "y = citi_merged_lagged['profit']\n",
    "X_lagged = sm.add_constant(X_lagged)\n",
    "\n",
    "model_lagged = sm.OLS(y, X_lagged).fit()\n",
    "print(model_lagged.summary())"
   ]
  },
  {
   "cell_type": "code",
   "execution_count": 361,
   "id": "8a2fedb7",
   "metadata": {},
   "outputs": [],
   "source": [
    "# the lag improved the results but not by much. We'll assume other factors have a larger impact on Citi"
   ]
  },
  {
   "cell_type": "code",
   "execution_count": 362,
   "id": "6246d09d",
   "metadata": {},
   "outputs": [
    {
     "name": "stdout",
     "output_type": "stream",
     "text": [
      "                           Feature        VIF\n",
      "0                            const  64.190931\n",
      "1                  Real GDP growth   1.292945\n",
      "2                Unemployment rate   1.928450\n",
      "3               CPI inflation rate   1.328133\n",
      "4                    Mortgage rate   5.799836\n",
      "5            3-month Treasury rate   7.886794\n",
      "6  Market Volatility Index (Level)   1.414565\n"
     ]
    }
   ],
   "source": [
    "#checking multicollinearity\n",
    "X = sm.add_constant(jpm_data[predictors])\n",
    "vif_data = pd.DataFrame()\n",
    "vif_data[\"Feature\"] = X.columns\n",
    "vif_data[\"VIF\"] = [variance_inflation_factor(X.values, i) for i in range(X.shape[1])]\n",
    "print(vif_data)"
   ]
  },
  {
   "cell_type": "code",
   "execution_count": 363,
   "id": "4ef75675",
   "metadata": {},
   "outputs": [],
   "source": [
    "# Based on this output, its worth checking the 3 month treasury rate. In this case, I will just accept it\n",
    "# and move forward, since its not too high"
   ]
  },
  {
   "cell_type": "code",
   "execution_count": 364,
   "id": "e0e7fde3",
   "metadata": {},
   "outputs": [],
   "source": [
    "# We will now design two stress scenarios, moderate and severe.\n",
    "# We will then predict JP Morgan profit under these two scenarios\n",
    "\n",
    "# Moderate scenario\n",
    "moderate = pd.DataFrame({\n",
    "    'const': [1],\n",
    "    'Real GDP growth': [-1.0],\n",
    "    'Unemployment rate': [6.5],\n",
    "    'CPI inflation rate': [3.0],\n",
    "    'Mortgage rate': [6.0],\n",
    "    '3-month Treasury rate': [2.0],\n",
    "    'Market Volatility Index (Level)': [35]\n",
    "})\n",
    "\n",
    "# Severe scenario\n",
    "severe = pd.DataFrame({\n",
    "    'const': [1],\n",
    "    'Real GDP growth': [-6.0],\n",
    "    'Unemployment rate': [10.0],\n",
    "    'CPI inflation rate': [2.0],\n",
    "    'Mortgage rate': [7.5],\n",
    "    '3-month Treasury rate': [0.25],\n",
    "    'Market Volatility Index (Level)': [55]\n",
    "})"
   ]
  },
  {
   "cell_type": "code",
   "execution_count": 365,
   "id": "e8ba88d0",
   "metadata": {},
   "outputs": [
    {
     "name": "stdout",
     "output_type": "stream",
     "text": [
      " JP Morgan Moderate stress profit: $5,344,435\n",
      "JP Morgan Severe stress profit: $3,712,920\n"
     ]
    }
   ],
   "source": [
    "# predict profit as defined by net income - net expenses using our regression model\n",
    "mod_profit = modeljpm.predict(moderate)[0]\n",
    "sev_profit = modeljpm.predict(severe)[0]\n",
    "\n",
    "print(f\" JP Morgan Moderate stress profit: ${mod_profit:,.0f}\")\n",
    "print(f\"JP Morgan Severe stress profit: ${sev_profit:,.0f}\")"
   ]
  },
  {
   "cell_type": "code",
   "execution_count": 366,
   "id": "02db8dd9",
   "metadata": {},
   "outputs": [
    {
     "name": "stdout",
     "output_type": "stream",
     "text": [
      "Citi Moderate Stress Profit: $5,100,894\n",
      "Citi Severe Stress Profit: $4,040,989\n"
     ]
    }
   ],
   "source": [
    "mod_profit_citi = modelciti.predict(moderate)[0]\n",
    "sev_profit_citi = modelciti.predict(severe)[0]\n",
    "\n",
    "print(f\"Citi Moderate Stress Profit: ${mod_profit_citi:,.0f}\")\n",
    "print(f\"Citi Severe Stress Profit: ${sev_profit_citi:,.0f}\")"
   ]
  },
  {
   "cell_type": "code",
   "execution_count": 367,
   "id": "8a6757d0",
   "metadata": {},
   "outputs": [
    {
     "data": {
      "text/plain": [
       "(0.14814588571793938, 0.15242928031851904, 0.15153924168206828)"
      ]
     },
     "execution_count": 367,
     "metadata": {},
     "output_type": "execute_result"
    }
   ],
   "source": [
    "def calculate_stress_capital_ratios(df, mod_profit, sev_profit):\n",
    "    current_tier1 = df['tier.1.capital.reported'].iloc[-1]\n",
    "    current_rwa = df['risk.weighted.assets.reported'].iloc[-1]\n",
    "\n",
    "    tier1_moderate = current_tier1 + mod_profit\n",
    "    tier1_severe = current_tier1 + sev_profit\n",
    "\n",
    "    baseline_ratio = current_tier1 / current_rwa\n",
    "    moderate_ratio = tier1_moderate / current_rwa\n",
    "    severe_ratio = tier1_severe / current_rwa\n",
    "\n",
    "    return baseline_ratio, moderate_ratio, severe_ratio\n",
    "\n",
    "# JPMorgan\n",
    "calculate_stress_capital_ratios(jpmorgan, mod_profit, sev_profit)\n",
    "\n",
    "# Citi\n",
    "calculate_stress_capital_ratios(citi, mod_profit_citi, sev_profit_citi)"
   ]
  },
  {
   "cell_type": "code",
   "execution_count": 368,
   "id": "4759b382",
   "metadata": {},
   "outputs": [],
   "source": [
    "jpm_baseline, jpm_mod, jpm_sev = calculate_stress_capital_ratios(jpmorgan, mod_profit, sev_profit)\n",
    "citi_baseline, citi_mod, citi_sev = calculate_stress_capital_ratios(citi, mod_profit_citi, sev_profit_citi)"
   ]
  },
  {
   "cell_type": "code",
   "execution_count": 369,
   "id": "518c3468",
   "metadata": {},
   "outputs": [
    {
     "data": {
      "image/png": "[encoded data removed]",
      "text/plain": [
       "<Figure size 800x500 with 1 Axes>"
      ]
     },
     "metadata": {},
     "output_type": "display_data"
    }
   ],
   "source": [
    "def plot_capital_ratios(jpm_ratios, citi_ratios):\n",
    "    import matplotlib.pyplot as plt\n",
    "    import numpy as np\n",
    "\n",
    "    labels = ['Baseline', 'Moderate Stress', 'Severe Stress']\n",
    "    jpm_values = [r * 100 for r in jpm_ratios]\n",
    "    citi_values = [r * 100 for r in citi_ratios]\n",
    "\n",
    "    x = np.arange(len(labels))\n",
    "    width = 0.35\n",
    "\n",
    "    fig, ax = plt.subplots(figsize=(8, 5))\n",
    "    bars1 = ax.bar(x - width/2, jpm_values, width, label='JP Morgan', color='blue')\n",
    "    bars2 = ax.bar(x + width/2, citi_values, width, label='Citi', color='green')\n",
    "\n",
    "    ax.set_ylabel('Capital Ratio (%)')\n",
    "    ax.set_title('Capital Ratios Under Stress Scenarios')\n",
    "    ax.set_xticks(x)\n",
    "    ax.set_xticklabels(labels)\n",
    "    ax.legend()\n",
    "\n",
    "    for bars in [bars1, bars2]:\n",
    "        for bar in bars:\n",
    "            height = bar.get_height()\n",
    "            ax.annotate(f'{height:.2f}%',\n",
    "                        xy=(bar.get_x() + bar.get_width() / 2, height),\n",
    "                        xytext=(0, 3),\n",
    "                        textcoords=\"offset points\",\n",
    "                        ha='center', va='bottom')\n",
    "\n",
    "    plt.tight_layout()\n",
    "    plt.show()\n",
    "\n",
    "jpm_ratios = (jpm_baseline, jpm_mod, jpm_sev)\n",
    "citi_ratios = (citi_baseline, citi_mod, citi_sev)\n",
    "\n",
    "plot_capital_ratios(jpm_ratios, citi_ratios)"
   ]
  },
  {
   "cell_type": "code",
   "execution_count": 370,
   "id": "0849892d",
   "metadata": {},
   "outputs": [],
   "source": [
    "# Reverse Stress Testing\n",
    "\n",
    "capital_ratio_threshold = 0.12\n",
    "\n",
    "gdp_range = np.linspace(-6, 2, 9) # from -6% to +2%\n",
    "unemp_range = np.linspace(4, 12, 9) # from 4% to 12%\n",
    "cpi_range = np.linspace(0, 6, 7) # from 0% to 6%\n",
    "mortgage_range = np.linspace(3, 8, 6) # from 3% to 8%\n",
    "treasury_range = np.linspace(0, 5, 6) # from 0% to 5%\n",
    "vix_range = np.linspace(15, 60, 10) # VIX level from 15 to 60"
   ]
  },
  {
   "cell_type": "code",
   "execution_count": 371,
   "id": "ff021d8a",
   "metadata": {},
   "outputs": [],
   "source": [
    "from itertools import product\n",
    "\n",
    "def reverse_stress_test(model, bank_df, threshold=0.12):\n",
    "    tier1 = bank_df['tier.1.capital.reported'].iloc[-1]\n",
    "    rwa = bank_df['risk.weighted.assets.reported'].iloc[-1]\n",
    "\n",
    "    results = []\n",
    "\n",
    "    for gdp, unemp, cpi, mort, t_bill, vix in product(gdp_range, unemp_range, cpi_range, mortgage_range, treasury_range, vix_range):\n",
    "        input_df = pd.DataFrame([{\n",
    "            'const': 1,\n",
    "            'Real GDP growth': gdp,\n",
    "            'Unemployment rate': unemp,\n",
    "            'CPI inflation rate': cpi,\n",
    "            'Mortgage rate': mort,\n",
    "            '3-month Treasury rate': t_bill,\n",
    "            'Market Volatility Index (Level)': vix\n",
    "        }])\n",
    "\n",
    "        profit = model.predict(input_df)[0]\n",
    "        capital_ratio = (tier1 + profit) / rwa\n",
    "\n",
    "        if capital_ratio < threshold:\n",
    "            results.append({\n",
    "                'GDP': gdp,\n",
    "                'Unemployment': unemp,\n",
    "                'CPI': cpi,\n",
    "                'Mortgage': mort,\n",
    "                'Treasury': t_bill,\n",
    "                'VIX': vix,\n",
    "                'Predicted Profit': profit,\n",
    "                'Capital Ratio': capital_ratio\n",
    "            })\n",
    "\n",
    "    return pd.DataFrame(results)"
   ]
  },
  {
   "cell_type": "code",
   "execution_count": 372,
   "id": "289ed6ad",
   "metadata": {},
   "outputs": [],
   "source": [
    "risky_jpm = reverse_stress_test(modeljpm, jpmorgan)\n",
    "risky_citi = reverse_stress_test(modelciti, citi)\n",
    "\n",
    "def summarize_reverse_stress_results(results_df, bank_name):\n",
    "    if results_df.empty:\n",
    "        print(f\"No scenarios found where {bank_name}'s capital ratio drops below the threshold.\")\n",
    "        return\n",
    "    \n",
    "    print(f\"Number of risky scenarios for {bank_name}: {len(results_df)}\")\n",
    "    \n",
    "    worst = results_df.loc[results_df['Capital Ratio'].idxmin()]\n",
    "    print(f\"Worst Case Scenario for {bank_name}:\")\n",
    "    print(f\"Capital Ratio: {worst['Capital Ratio']:.2%}\")\n",
    "    print(f\"GDP: {worst['GDP']}%\")\n",
    "    print(f\"Unemployment: {worst['Unemployment']}%\")\n",
    "    print(f\"CPI: {worst['CPI']}%\")\n",
    "    print(f\"Mortgage Rate: {worst['Mortgage']}%\")\n",
    "    print(f\"3M Treasury: {worst['Treasury']}%\")\n",
    "    print(f\"VIX: {worst['VIX']}\")\n",
    "    print(f\"Predicted Profit: ${worst['Predicted Profit']:,.0f}\")\n",
    "    \n",
    "    # Macro pattern insights\n",
    "    print(f\"Common Conditions Across Risky Scenarios:\")\n",
    "    print(results_df.describe()[['GDP', 'Unemployment', 'CPI', 'Mortgage', 'Treasury', 'VIX']])"
   ]
  },
  {
   "cell_type": "code",
   "execution_count": 373,
   "id": "15244070",
   "metadata": {},
   "outputs": [],
   "source": [
    "risky_jpm = reverse_stress_test(modeljpm, jpmorgan)\n",
    "risky_citi = reverse_stress_test(modelciti, citi)"
   ]
  },
  {
   "cell_type": "code",
   "execution_count": 374,
   "id": "25d490dc",
   "metadata": {},
   "outputs": [
    {
     "name": "stdout",
     "output_type": "stream",
     "text": [
      "No scenarios found where JP Morgan's capital ratio drops below the threshold.\n",
      "No scenarios found where Citi's capital ratio drops below the threshold.\n"
     ]
    }
   ],
   "source": [
    "summarize_reverse_stress_results(risky_jpm, \"JP Morgan\")\n",
    "summarize_reverse_stress_results(risky_citi, \"Citi\")"
   ]
  }
 ],
 "metadata": {
  "kernelspec": {
   "display_name": "Python 3",
   "language": "python",
   "name": "python3"
  },
  "language_info": {
   "codemirror_mode": {
    "name": "ipython",
    "version": 3
   },
   "file_extension": ".py",
   "mimetype": "text/x-python",
   "name": "python",
   "nbconvert_exporter": "python",
   "pygments_lexer": "ipython3",
   "version": "3.12.3"
  }
 },
 "nbformat": 4,
 "nbformat_minor": 5
}
